{
 "cells": [
  {
   "cell_type": "code",
   "execution_count": 1,
   "metadata": {},
   "outputs": [],
   "source": [
    "import PyCrowdTangle as pct"
   ]
  },
  {
   "cell_type": "code",
   "execution_count": 2,
   "metadata": {},
   "outputs": [],
   "source": [
    "# choose the url you are interested in\n",
    "interested_url = 'https://www.cnn.com/2020/09/25/politics/redfield-trump-cdc-morale/index.html'\n",
    "\n",
    "# choose the start date, you may want to choose a date earlier than the posted date of the url.\n",
    "state_date = '2019-01-01'\n",
    "\n",
    "# Get the api_token from the CrowdTangle interface\n",
    "api_token = "
   ]
  },
  {
   "cell_type": "code",
   "execution_count": 3,
   "metadata": {},
   "outputs": [],
   "source": [
    "\n",
    "response = pct.ct_get_links(link= interested_url,\n",
    "                        platforms='facebook',\n",
    "                        count = 1000, # default is 100, and the max count is 1000\n",
    "                     start_date='2019-01-01', \n",
    "                            api_token=\"pFfveW010lnUC97JUFKS3WWANSQwTtbfu0iKmsc9\")\n",
    "\n"
   ]
  },
  {
   "cell_type": "code",
   "execution_count": 6,
   "metadata": {},
   "outputs": [
    {
     "data": {
      "text/plain": [
       "dict_keys(['status', 'notes', 'result'])"
      ]
     },
     "execution_count": 6,
     "metadata": {},
     "output_type": "execute_result"
    }
   ],
   "source": [
    "# resoponse is a dict\n",
    "response.keys()"
   ]
  },
  {
   "cell_type": "code",
   "execution_count": 7,
   "metadata": {},
   "outputs": [
    {
     "data": {
      "text/plain": [
       "200"
      ]
     },
     "execution_count": 7,
     "metadata": {},
     "output_type": "execute_result"
    }
   ],
   "source": [
    "# check the status of the response, 200 means a successful one\n",
    "response['status']"
   ]
  },
  {
   "cell_type": "code",
   "execution_count": 12,
   "metadata": {},
   "outputs": [],
   "source": [
    "# You can play with the reponse['result']['posts'] to get the data\n",
    "# Below are some useful functions"
   ]
  },
  {
   "cell_type": "code",
   "execution_count": 11,
   "metadata": {},
   "outputs": [
    {
     "data": {
      "text/plain": [
       "34"
      ]
     },
     "execution_count": 11,
     "metadata": {},
     "output_type": "execute_result"
    }
   ],
   "source": [
    "# length of the public interaction posts:\n",
    "len(response['result']['posts'])"
   ]
  },
  {
   "cell_type": "code",
   "execution_count": 13,
   "metadata": {},
   "outputs": [
    {
     "data": {
      "text/plain": [
       "{'platformId': '957251561085156_2155536291256671',\n",
       " 'platform': 'Facebook',\n",
       " 'date': '2020-09-25 16:26:53',\n",
       " 'updated': '2020-10-01 02:35:12',\n",
       " 'type': 'link',\n",
       " 'title': 'Trump has lost patience with CDC head after series of mixed messages',\n",
       " 'caption': 'cnn.com',\n",
       " 'description': 'President Donald Trump has lost patience with the head of the US Centers for Disease Control and Prevention, Dr. Robert Redfield, as well as with the other public health experts on his coronavirus team because their sober messaging on the future of the pandemic clashes with his rosy assessments.',\n",
       " 'message': \"You can't tell the truth in this administration or the boss will be upset.\",\n",
       " 'expandedLinks': [{'original': 'https://www.cnn.com/2020/09/25/politics/redfield-trump-cdc-morale/index.html',\n",
       "   'expanded': 'https://www.cnn.com/2020/09/25/politics/redfield-trump-cdc-morale/index.html'}],\n",
       " 'link': 'https://www.cnn.com/2020/09/25/politics/redfield-trump-cdc-morale/index.html',\n",
       " 'postUrl': 'https://www.facebook.com/groups/957251561085156/permalink/2155536291256671',\n",
       " 'subscriberCount': 7814,\n",
       " 'score': -6.0,\n",
       " 'media': [{'type': 'photo',\n",
       "   'url': 'https://external-sea1-1.xx.fbcdn.net/safe_image.php?d=AQA6MoyFp_Dcjyil&w=619&h=619&url=https%3A%2F%2Fcdn.cnn.com%2Fcnnnext%2Fdam%2Fassets%2F200708181939-cdc-dr-robert-redfield-president-donald-trump-split-super-tease.jpg&cfs=1&sx=295&sy=0&sw=619&sh=619&_nc_cb=1&_nc_hash=AQBP35s3YcrsLmoV',\n",
       "   'height': 619,\n",
       "   'width': 619,\n",
       "   'full': 'https://external-sea1-1.xx.fbcdn.net/safe_image.php?d=AQCRnp4FdwI0NFNL&url=https%3A%2F%2Fcdn.cnn.com%2Fcnnnext%2Fdam%2Fassets%2F200708181939-cdc-dr-robert-redfield-president-donald-trump-split-super-tease.jpg&_nc_cb=1&_nc_hash=AQCMadV6699R0ZJB'}],\n",
       " 'statistics': {'actual': {'likeCount': 1,\n",
       "   'shareCount': 2,\n",
       "   'commentCount': 2,\n",
       "   'loveCount': 0,\n",
       "   'wowCount': 0,\n",
       "   'hahaCount': 1,\n",
       "   'sadCount': 0,\n",
       "   'angryCount': 0,\n",
       "   'thankfulCount': 0,\n",
       "   'careCount': 0},\n",
       "  'expected': {'likeCount': 5,\n",
       "   'shareCount': 4,\n",
       "   'commentCount': 8,\n",
       "   'loveCount': 4,\n",
       "   'wowCount': 2,\n",
       "   'hahaCount': 4,\n",
       "   'sadCount': 3,\n",
       "   'angryCount': 6,\n",
       "   'thankfulCount': 0,\n",
       "   'careCount': 2}},\n",
       " 'account': {'id': 8421477,\n",
       "  'name': 'Trump Haters United',\n",
       "  'profileImage': 'https://scontent-sea1-1.xx.fbcdn.net/v/t1.0-0/cp0/c3.0.50.50a/p50x50/95129298_3187149981297283_5584216852197801984_n.jpg?_nc_cat=108&_nc_sid=ca434c&_nc_ohc=Vj1cK4Nwf6QAX-_LRIv&_nc_ht=scontent-sea1-1.xx&_nc_tp=27&oh=654e67efb7d7b306ec6c6a3b32a9f0c5&oe=5F9CFDD7',\n",
       "  'subscriberCount': 7840,\n",
       "  'url': 'https://www.facebook.com/groups/957251561085156',\n",
       "  'platform': 'Facebook',\n",
       "  'platformId': '957251561085156',\n",
       "  'accountType': 'facebook_group',\n",
       "  'verified': False},\n",
       " 'newId': '8421477|2155536291256671',\n",
       " 'id': 107452789153}"
      ]
     },
     "execution_count": 13,
     "metadata": {},
     "output_type": "execute_result"
    }
   ],
   "source": [
    "# An example of one post:\n",
    "response['result']['posts'][27]"
   ]
  },
  {
   "cell_type": "code",
   "execution_count": 10,
   "metadata": {},
   "outputs": [
    {
     "name": "stdout",
     "output_type": "stream",
     "text": [
      "0 Jefferson County Washington\n",
      "1 Truth In Crisis\n",
      "2 Rosemary Stein, MD\n",
      "3 'Conservative Insurrection'\n",
      "4 Bainbridge Islanders for Vice President Kamala Harris\n",
      "5 Jefferson County Washington\n",
      "6 A Skunk Named Trump\n",
      "7 Patriots United with Law Enforcement\n",
      "8 Tuned=Us\n",
      "9 Needtoimpeach\n",
      "10 Reject Donald Trump\n",
      "11 Need To Impeach\n",
      "12 Tony Flow\n",
      "13 Democrats against Donald J. Trumpf\n",
      "14 Current Status\n",
      "15 Nick Valencia\n",
      "16 Sandy Piña California Delegate\n",
      "17 Vietnamese Americans & Friends Against T.R.U.M.P.\n",
      "18 tRump Error Syndrome\n",
      "19 I AM THEREFORE I RESIST!\n",
      "20 Buffoon in Chief Donald Trump\n",
      "21 Senior and Disabled Concerns\n",
      "22 Lane County Tribune\n",
      "23 A Safer Eugene & Lane Co. - Oregon\n",
      "24 Blue Tsunami\n",
      "25 Joe Biden For President 2020!\n",
      "26 CNN Politics\n",
      "27 Trump Haters United\n",
      "28 CNN\n",
      "29 Trump is Crooked\n",
      "30 Our National Pile of Human Excrement (Trump)\n",
      "31 FU Trump\n",
      "32 TRUMP Destroyer of America\n",
      "33 Living Blue in Arizona\n"
     ]
    }
   ],
   "source": [
    "# Print the names of the public interaction accounts\n",
    "for i in range(len(response['result']['posts'])):\n",
    "    print (i, response['result']['posts'][i]['account']['name'])"
   ]
  },
  {
   "cell_type": "code",
   "execution_count": 64,
   "metadata": {},
   "outputs": [],
   "source": [
    "# calculate the total comment count\n",
    "\n",
    "comment_count = 0\n",
    "for j in range(len(data['result']['posts'])):\n",
    "    comment_count += data['result']['posts'][j]['statistics']['expected']['shareCount']"
   ]
  },
  {
   "cell_type": "code",
   "execution_count": null,
   "metadata": {},
   "outputs": [],
   "source": []
  }
 ],
 "metadata": {
  "kernelspec": {
   "display_name": "Python 3",
   "language": "python",
   "name": "python3"
  },
  "language_info": {
   "codemirror_mode": {
    "name": "ipython",
    "version": 3
   },
   "file_extension": ".py",
   "mimetype": "text/x-python",
   "name": "python",
   "nbconvert_exporter": "python",
   "pygments_lexer": "ipython3",
   "version": "3.6.7"
  }
 },
 "nbformat": 4,
 "nbformat_minor": 2
}
